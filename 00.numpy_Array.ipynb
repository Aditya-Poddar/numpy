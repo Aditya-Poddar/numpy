{
 "cells": [
  {
   "cell_type": "markdown",
   "id": "d77c3c5f",
   "metadata": {},
   "source": [
    "## Numpy - Numerical Python\n"
   ]
  },
  {
   "cell_type": "markdown",
   "id": "eba4832d",
   "metadata": {},
   "source": [
    "### Numpy Array\n",
    "    NumPy is used to work with arrays. The array object in NumPy is called ndarray.\n",
    "\n",
    "    We can create a NumPy ndarray object by using the array() function."
   ]
  },
  {
   "cell_type": "markdown",
   "id": "148f0a34",
   "metadata": {},
   "source": [
    "### Numpy array has two flavours :\n",
    "    1. Vector    2. Matrix\n",
    "\n",
    "    vectors are 1-D array and matrix are 2D array."
   ]
  },
  {
   "cell_type": "code",
   "execution_count": 1,
   "id": "e6777d59",
   "metadata": {},
   "outputs": [
    {
     "data": {
      "text/plain": [
       "[1, 2, 3]"
      ]
     },
     "execution_count": 1,
     "metadata": {},
     "output_type": "execute_result"
    }
   ],
   "source": [
    "my_list = [1,2,3]\n",
    "my_list"
   ]
  },
  {
   "cell_type": "code",
   "execution_count": 2,
   "id": "940627af",
   "metadata": {},
   "outputs": [
    {
     "data": {
      "text/plain": [
       "list"
      ]
     },
     "execution_count": 2,
     "metadata": {},
     "output_type": "execute_result"
    }
   ],
   "source": [
    "type(my_list)"
   ]
  },
  {
   "cell_type": "code",
   "execution_count": 3,
   "id": "a51100f2",
   "metadata": {},
   "outputs": [],
   "source": [
    "import numpy as np"
   ]
  },
  {
   "cell_type": "markdown",
   "id": "328b83ee",
   "metadata": {},
   "source": [
    "## Numpy Version"
   ]
  },
  {
   "cell_type": "code",
   "execution_count": 4,
   "id": "8264617f",
   "metadata": {},
   "outputs": [
    {
     "name": "stdout",
     "output_type": "stream",
     "text": [
      "1.21.3\n"
     ]
    }
   ],
   "source": [
    "print(np.__version__)"
   ]
  },
  {
   "cell_type": "markdown",
   "id": "bfb2de09",
   "metadata": {},
   "source": [
    "### 0Dimensional Array"
   ]
  },
  {
   "cell_type": "markdown",
   "id": "3d482dd6-35d0-4407-98c1-5b8f38909fdd",
   "metadata": {},
   "source": [
    "## astype"
   ]
  },
  {
   "cell_type": "code",
   "execution_count": 49,
   "id": "988ba11d-9f8d-4f8f-9a80-705b043c7e0f",
   "metadata": {},
   "outputs": [
    {
     "ename": "TypeError",
     "evalue": "Cannot interpret '2' as a data type",
     "output_type": "error",
     "traceback": [
      "\u001b[0;31m---------------------------------------------------------------------------\u001b[0m",
      "\u001b[0;31mTypeError\u001b[0m                                 Traceback (most recent call last)",
      "\u001b[0;32m/tmp/ipykernel_106551/973802987.py\u001b[0m in \u001b[0;36m<module>\u001b[0;34m\u001b[0m\n\u001b[0;32m----> 1\u001b[0;31m \u001b[0mprint\u001b[0m\u001b[0;34m(\u001b[0m\u001b[0mnp\u001b[0m\u001b[0;34m.\u001b[0m\u001b[0marray\u001b[0m\u001b[0;34m(\u001b[0m\u001b[0;36m1\u001b[0m\u001b[0;34m,\u001b[0m\u001b[0;36m2\u001b[0m\u001b[0;34m)\u001b[0m\u001b[0;34m.\u001b[0m\u001b[0mastype\u001b[0m\u001b[0;34m(\u001b[0m\u001b[0;34m\"float\"\u001b[0m\u001b[0;34m)\u001b[0m\u001b[0;34m)\u001b[0m\u001b[0;34m\u001b[0m\u001b[0;34m\u001b[0m\u001b[0m\n\u001b[0m",
      "\u001b[0;31mTypeError\u001b[0m: Cannot interpret '2' as a data type"
     ]
    }
   ],
   "source": [
    "print(np.array(1,2).astype(\"fl\")"
   ]
  },
  {
   "cell_type": "code",
   "execution_count": null,
   "id": "86122826-9350-4cad-be34-13d3f975755c",
   "metadata": {},
   "outputs": [],
   "source": []
  },
  {
   "cell_type": "code",
   "execution_count": 5,
   "id": "24c10b6e",
   "metadata": {},
   "outputs": [],
   "source": [
    "arr = np.array(12)"
   ]
  },
  {
   "cell_type": "code",
   "execution_count": 6,
   "id": "3996b022",
   "metadata": {},
   "outputs": [
    {
     "name": "stdout",
     "output_type": "stream",
     "text": [
      "12\n",
      "()\n"
     ]
    }
   ],
   "source": [
    "print(arr)\n",
    "print(arr.shape)"
   ]
  },
  {
   "cell_type": "markdown",
   "id": "bce72b3a",
   "metadata": {},
   "source": [
    "### 1Dimensional Array"
   ]
  },
  {
   "cell_type": "code",
   "execution_count": 7,
   "id": "a1a5e242",
   "metadata": {},
   "outputs": [
    {
     "name": "stdout",
     "output_type": "stream",
     "text": [
      "[1 2 3]\n",
      "(3,)\n"
     ]
    }
   ],
   "source": [
    "a = np.array(my_list)\n",
    "print(a)\n",
    "print(a.shape)"
   ]
  },
  {
   "cell_type": "code",
   "execution_count": 8,
   "id": "0d5f4124",
   "metadata": {},
   "outputs": [
    {
     "data": {
      "text/plain": [
       "numpy.ndarray"
      ]
     },
     "execution_count": 8,
     "metadata": {},
     "output_type": "execute_result"
    }
   ],
   "source": [
    "type(a)  "
   ]
  },
  {
   "cell_type": "markdown",
   "id": "ff6faa93",
   "metadata": {},
   "source": [
    "###  MultiDimensional Array"
   ]
  },
  {
   "cell_type": "code",
   "execution_count": 9,
   "id": "d5af1b1f",
   "metadata": {},
   "outputs": [
    {
     "name": "stdout",
     "output_type": "stream",
     "text": [
      "[[1 2]\n",
      " [2 3]\n",
      " [3 4]\n",
      " [4 5]]\n",
      "\n",
      "Shape : (4, 2)\n"
     ]
    }
   ],
   "source": [
    "my_mat = [[1,2],[2,3],[3,4],[4,5]]\n",
    "multi_array = np.array(my_mat)\n",
    "print(multi_array)\n",
    "print(\"\\nShape :\",multi_array.shape)"
   ]
  },
  {
   "cell_type": "code",
   "execution_count": 10,
   "id": "6b77bf97",
   "metadata": {},
   "outputs": [
    {
     "data": {
      "text/plain": [
       "numpy.ndarray"
      ]
     },
     "execution_count": 10,
     "metadata": {},
     "output_type": "execute_result"
    }
   ],
   "source": [
    "type(multi_array)"
   ]
  },
  {
   "cell_type": "code",
   "execution_count": 11,
   "id": "0464b78a",
   "metadata": {},
   "outputs": [
    {
     "data": {
      "text/plain": [
       "array([[1, 2],\n",
       "       [2, 3],\n",
       "       [3, 4],\n",
       "       [4, 5]])"
      ]
     },
     "execution_count": 11,
     "metadata": {},
     "output_type": "execute_result"
    }
   ],
   "source": [
    "  np.array(my_mat)"
   ]
  },
  {
   "cell_type": "markdown",
   "id": "b289ca14",
   "metadata": {},
   "source": [
    "### Check Number of Dimensions\n",
    "    ndim is used to check the dimension of the array"
   ]
  },
  {
   "cell_type": "code",
   "execution_count": 12,
   "id": "f7eb4444",
   "metadata": {},
   "outputs": [
    {
     "name": "stdout",
     "output_type": "stream",
     "text": [
      "12\n",
      "\n",
      "\n",
      "[1 2 3]\n",
      "\n",
      "\n",
      "[[1 2]\n",
      " [2 3]\n",
      " [3 4]\n",
      " [4 5]]\n"
     ]
    }
   ],
   "source": [
    "print(arr);print(\"\\n\")\n",
    "print(a);print(\"\\n\")\n",
    "print(multi_array)"
   ]
  },
  {
   "cell_type": "code",
   "execution_count": 13,
   "id": "f690c468",
   "metadata": {},
   "outputs": [
    {
     "name": "stdout",
     "output_type": "stream",
     "text": [
      "0\n",
      "1\n",
      "2\n"
     ]
    }
   ],
   "source": [
    "print(arr.ndim)\n",
    "print(a.ndim)\n",
    "print(multi_array.ndim)"
   ]
  },
  {
   "cell_type": "markdown",
   "id": "dc17fe4a",
   "metadata": {},
   "source": [
    "### Higher Dimensional Array\n",
    "    ndmin=- is used for higher order dimension"
   ]
  },
  {
   "cell_type": "code",
   "execution_count": 14,
   "id": "7c558e5e",
   "metadata": {},
   "outputs": [],
   "source": [
    "higher_array = np.array([1,2,3,4],ndmin=5)"
   ]
  },
  {
   "cell_type": "code",
   "execution_count": 15,
   "id": "08fc3b01",
   "metadata": {},
   "outputs": [
    {
     "name": "stdout",
     "output_type": "stream",
     "text": [
      "[[[[[1 2 3 4]]]]]\n",
      "Dimension : 5\n"
     ]
    }
   ],
   "source": [
    "print(higher_array)\n",
    "print(\"Dimension :\",higher_array.ndim)"
   ]
  },
  {
   "cell_type": "markdown",
   "id": "542bdc9f",
   "metadata": {},
   "source": [
    "### Fastest way to create  a array "
   ]
  },
  {
   "cell_type": "markdown",
   "id": "bb7529b3",
   "metadata": {},
   "source": [
    "#### Using arange() method"
   ]
  },
  {
   "cell_type": "code",
   "execution_count": 16,
   "id": "fced33fd",
   "metadata": {},
   "outputs": [
    {
     "data": {
      "text/plain": [
       "array([0, 1, 2, 3, 4, 5, 6, 7, 8, 9])"
      ]
     },
     "execution_count": 16,
     "metadata": {},
     "output_type": "execute_result"
    }
   ],
   "source": [
    "np.arange(0,10)"
   ]
  },
  {
   "cell_type": "code",
   "execution_count": 17,
   "id": "7acc7f94",
   "metadata": {},
   "outputs": [
    {
     "data": {
      "text/plain": [
       "array([10,  9,  8,  7,  6,  5,  4,  3,  2,  1])"
      ]
     },
     "execution_count": 17,
     "metadata": {},
     "output_type": "execute_result"
    }
   ],
   "source": [
    "np.arange(10,0,-1)"
   ]
  },
  {
   "cell_type": "code",
   "execution_count": 18,
   "id": "f741ede0",
   "metadata": {},
   "outputs": [
    {
     "data": {
      "text/plain": [
       "array([0, 2, 4, 6, 8])"
      ]
     },
     "execution_count": 18,
     "metadata": {},
     "output_type": "execute_result"
    }
   ],
   "source": [
    "np.arange(0,10,2)"
   ]
  },
  {
   "cell_type": "markdown",
   "id": "a8efd1c1",
   "metadata": {},
   "source": [
    "### create a array containing 0"
   ]
  },
  {
   "cell_type": "code",
   "execution_count": 19,
   "id": "b17039ae",
   "metadata": {},
   "outputs": [
    {
     "data": {
      "text/plain": [
       "array([0., 0., 0.])"
      ]
     },
     "execution_count": 19,
     "metadata": {},
     "output_type": "execute_result"
    }
   ],
   "source": [
    "np.zeros(3)"
   ]
  },
  {
   "cell_type": "code",
   "execution_count": 20,
   "id": "22697794",
   "metadata": {},
   "outputs": [
    {
     "data": {
      "text/plain": [
       "array([[0., 0., 0., 0., 0.],\n",
       "       [0., 0., 0., 0., 0.],\n",
       "       [0., 0., 0., 0., 0.],\n",
       "       [0., 0., 0., 0., 0.],\n",
       "       [0., 0., 0., 0., 0.]])"
      ]
     },
     "execution_count": 20,
     "metadata": {},
     "output_type": "execute_result"
    }
   ],
   "source": [
    "np.zeros((5,5))   # multimidensional array of 5 * 5 containing 0"
   ]
  },
  {
   "cell_type": "code",
   "execution_count": 21,
   "id": "42309a77",
   "metadata": {},
   "outputs": [
    {
     "data": {
      "text/plain": [
       "array([[0., 0., 0., 0., 0.],\n",
       "       [0., 0., 0., 0., 0.],\n",
       "       [0., 0., 0., 0., 0.]])"
      ]
     },
     "execution_count": 21,
     "metadata": {},
     "output_type": "execute_result"
    }
   ],
   "source": [
    "np.zeros((3,5))  # multimidensional array of 3 * 5 containing 0"
   ]
  },
  {
   "cell_type": "code",
   "execution_count": 22,
   "id": "e2a45d16",
   "metadata": {},
   "outputs": [
    {
     "data": {
      "text/plain": [
       "array([1.])"
      ]
     },
     "execution_count": 22,
     "metadata": {},
     "output_type": "execute_result"
    }
   ],
   "source": [
    "np.ones((1))"
   ]
  },
  {
   "cell_type": "code",
   "execution_count": 23,
   "id": "d406668d",
   "metadata": {},
   "outputs": [
    {
     "data": {
      "text/plain": [
       "array([[1., 1., 1., 1., 1.],\n",
       "       [1., 1., 1., 1., 1.],\n",
       "       [1., 1., 1., 1., 1.],\n",
       "       [1., 1., 1., 1., 1.],\n",
       "       [1., 1., 1., 1., 1.]])"
      ]
     },
     "execution_count": 23,
     "metadata": {},
     "output_type": "execute_result"
    }
   ],
   "source": [
    "np.ones((5,5))"
   ]
  },
  {
   "cell_type": "code",
   "execution_count": 24,
   "id": "a1ea950a",
   "metadata": {},
   "outputs": [
    {
     "data": {
      "text/plain": [
       "array([[1., 1., 1.],\n",
       "       [1., 1., 1.]])"
      ]
     },
     "execution_count": 24,
     "metadata": {},
     "output_type": "execute_result"
    }
   ],
   "source": [
    "np.ones((2,3))"
   ]
  },
  {
   "cell_type": "markdown",
   "id": "20275161",
   "metadata": {},
   "source": [
    "### linspace"
   ]
  },
  {
   "cell_type": "markdown",
   "id": "566d947f",
   "metadata": {},
   "source": [
    "##### The numpy.linspace() function returns number spaces evenly w.r.t interval. Similar to numpy.arrange() function but instead of step it uses sample number. "
   ]
  },
  {
   "cell_type": "code",
   "execution_count": null,
   "id": "fc6a0c22-6c03-4dfd-a6cf-039ae38bc309",
   "metadata": {},
   "outputs": [],
   "source": [
    "np.linspace"
   ]
  },
  {
   "cell_type": "code",
   "execution_count": 25,
   "id": "7dd99aec",
   "metadata": {},
   "outputs": [
    {
     "data": {
      "text/plain": [
       "array([0.        , 0.55555556, 1.11111111, 1.66666667, 2.22222222,\n",
       "       2.77777778, 3.33333333, 3.88888889, 4.44444444, 5.        ])"
      ]
     },
     "execution_count": 25,
     "metadata": {},
     "output_type": "execute_result"
    }
   ],
   "source": [
    "np.linspace(0,5,10)"
   ]
  },
  {
   "cell_type": "code",
   "execution_count": 26,
   "id": "debbf930",
   "metadata": {},
   "outputs": [
    {
     "data": {
      "text/plain": [
       "array([0.        , 0.11111111, 0.22222222, 0.33333333, 0.44444444,\n",
       "       0.55555556, 0.66666667, 0.77777778, 0.88888889, 1.        ])"
      ]
     },
     "execution_count": 26,
     "metadata": {},
     "output_type": "execute_result"
    }
   ],
   "source": [
    "np.linspace(0,1,10)"
   ]
  },
  {
   "cell_type": "code",
   "execution_count": 27,
   "id": "0cb0ad7d",
   "metadata": {},
   "outputs": [
    {
     "data": {
      "text/plain": [
       "array([0.  , 1.25, 2.5 , 3.75, 5.  ])"
      ]
     },
     "execution_count": 27,
     "metadata": {},
     "output_type": "execute_result"
    }
   ],
   "source": [
    "np.linspace(0,5,5)"
   ]
  },
  {
   "cell_type": "markdown",
   "id": "cfd8cce0",
   "metadata": {},
   "source": [
    "###### By default -  numpy.linspace(start, stop, num=50) "
   ]
  },
  {
   "cell_type": "code",
   "execution_count": 28,
   "id": "3a7bb983",
   "metadata": {},
   "outputs": [
    {
     "data": {
      "text/plain": [
       "array([0.        , 0.10204082, 0.20408163, 0.30612245, 0.40816327,\n",
       "       0.51020408, 0.6122449 , 0.71428571, 0.81632653, 0.91836735,\n",
       "       1.02040816, 1.12244898, 1.2244898 , 1.32653061, 1.42857143,\n",
       "       1.53061224, 1.63265306, 1.73469388, 1.83673469, 1.93877551,\n",
       "       2.04081633, 2.14285714, 2.24489796, 2.34693878, 2.44897959,\n",
       "       2.55102041, 2.65306122, 2.75510204, 2.85714286, 2.95918367,\n",
       "       3.06122449, 3.16326531, 3.26530612, 3.36734694, 3.46938776,\n",
       "       3.57142857, 3.67346939, 3.7755102 , 3.87755102, 3.97959184,\n",
       "       4.08163265, 4.18367347, 4.28571429, 4.3877551 , 4.48979592,\n",
       "       4.59183673, 4.69387755, 4.79591837, 4.89795918, 5.        ])"
      ]
     },
     "execution_count": 28,
     "metadata": {},
     "output_type": "execute_result"
    }
   ],
   "source": [
    "np.linspace(0,5)"
   ]
  },
  {
   "cell_type": "code",
   "execution_count": 29,
   "id": "0a3d3276",
   "metadata": {},
   "outputs": [
    {
     "data": {
      "text/plain": [
       "array([2.        , 2.02040816, 2.04081633, 2.06122449, 2.08163265,\n",
       "       2.10204082, 2.12244898, 2.14285714, 2.16326531, 2.18367347,\n",
       "       2.20408163, 2.2244898 , 2.24489796, 2.26530612, 2.28571429,\n",
       "       2.30612245, 2.32653061, 2.34693878, 2.36734694, 2.3877551 ,\n",
       "       2.40816327, 2.42857143, 2.44897959, 2.46938776, 2.48979592,\n",
       "       2.51020408, 2.53061224, 2.55102041, 2.57142857, 2.59183673,\n",
       "       2.6122449 , 2.63265306, 2.65306122, 2.67346939, 2.69387755,\n",
       "       2.71428571, 2.73469388, 2.75510204, 2.7755102 , 2.79591837,\n",
       "       2.81632653, 2.83673469, 2.85714286, 2.87755102, 2.89795918,\n",
       "       2.91836735, 2.93877551, 2.95918367, 2.97959184, 3.        ])"
      ]
     },
     "execution_count": 29,
     "metadata": {},
     "output_type": "execute_result"
    }
   ],
   "source": [
    "np.linspace(2.0,3.0)"
   ]
  },
  {
   "cell_type": "markdown",
   "id": "42588515",
   "metadata": {},
   "source": [
    "### Create an Identity Matrix"
   ]
  },
  {
   "cell_type": "code",
   "execution_count": 30,
   "id": "8b4acf59",
   "metadata": {},
   "outputs": [
    {
     "data": {
      "text/plain": [
       "array([[1., 0., 0.],\n",
       "       [0., 1., 0.],\n",
       "       [0., 0., 1.]])"
      ]
     },
     "execution_count": 30,
     "metadata": {},
     "output_type": "execute_result"
    }
   ],
   "source": [
    "np.eye(3)   # identity matrix of 3*# order"
   ]
  },
  {
   "cell_type": "code",
   "execution_count": 31,
   "id": "6b5ec489",
   "metadata": {},
   "outputs": [
    {
     "data": {
      "text/plain": [
       "array([[1., 0., 0., 0., 0., 0., 0., 0., 0.],\n",
       "       [0., 1., 0., 0., 0., 0., 0., 0., 0.],\n",
       "       [0., 0., 1., 0., 0., 0., 0., 0., 0.],\n",
       "       [0., 0., 0., 1., 0., 0., 0., 0., 0.],\n",
       "       [0., 0., 0., 0., 1., 0., 0., 0., 0.],\n",
       "       [0., 0., 0., 0., 0., 1., 0., 0., 0.],\n",
       "       [0., 0., 0., 0., 0., 0., 1., 0., 0.],\n",
       "       [0., 0., 0., 0., 0., 0., 0., 1., 0.],\n",
       "       [0., 0., 0., 0., 0., 0., 0., 0., 1.]])"
      ]
     },
     "execution_count": 31,
     "metadata": {},
     "output_type": "execute_result"
    }
   ],
   "source": [
    "np.eye(9)    # identity matrix of 9*9 order."
   ]
  },
  {
   "cell_type": "code",
   "execution_count": 32,
   "id": "2f545fe3",
   "metadata": {},
   "outputs": [
    {
     "data": {
      "text/plain": [
       "array([[1., 0.],\n",
       "       [0., 1.]])"
      ]
     },
     "execution_count": 32,
     "metadata": {},
     "output_type": "execute_result"
    }
   ],
   "source": [
    "np.eye(2)"
   ]
  },
  {
   "cell_type": "code",
   "execution_count": 33,
   "id": "4b3c197c",
   "metadata": {},
   "outputs": [
    {
     "data": {
      "text/plain": [
       "array([[1.]])"
      ]
     },
     "execution_count": 33,
     "metadata": {},
     "output_type": "execute_result"
    }
   ],
   "source": [
    "np.eye(1)"
   ]
  },
  {
   "cell_type": "markdown",
   "id": "473c877e",
   "metadata": {},
   "source": [
    "### Array using random number"
   ]
  },
  {
   "cell_type": "markdown",
   "id": "2f5ae93e",
   "metadata": {},
   "source": [
    "##### np.random.rand()"
   ]
  },
  {
   "cell_type": "code",
   "execution_count": 34,
   "id": "ba59fab0",
   "metadata": {},
   "outputs": [
    {
     "data": {
      "text/plain": [
       "array([[0.98945232, 0.77769462, 0.04342152],\n",
       "       [0.10175378, 0.43907956, 0.99250639]])"
      ]
     },
     "execution_count": 34,
     "metadata": {},
     "output_type": "execute_result"
    }
   ],
   "source": [
    "np.random.rand(2,3)"
   ]
  },
  {
   "cell_type": "code",
   "execution_count": 35,
   "id": "71d9ea9c",
   "metadata": {},
   "outputs": [
    {
     "data": {
      "text/plain": [
       "array([0.72258826])"
      ]
     },
     "execution_count": 35,
     "metadata": {},
     "output_type": "execute_result"
    }
   ],
   "source": [
    " np.random.rand(1)"
   ]
  },
  {
   "cell_type": "markdown",
   "id": "d8ab994f",
   "metadata": {},
   "source": [
    "##### np.random.randn()"
   ]
  },
  {
   "cell_type": "code",
   "execution_count": 36,
   "id": "7d9be83e",
   "metadata": {},
   "outputs": [
    {
     "data": {
      "text/plain": [
       "array([-0.60308253,  0.26875191])"
      ]
     },
     "execution_count": 36,
     "metadata": {},
     "output_type": "execute_result"
    }
   ],
   "source": [
    "np.random.randn(2)       # standard distribution"
   ]
  },
  {
   "cell_type": "code",
   "execution_count": 37,
   "id": "52956c54",
   "metadata": {},
   "outputs": [
    {
     "data": {
      "text/plain": [
       "array([[-0.1062863 , -1.3391854 , -1.19825179, -2.42209264, -1.18160545],\n",
       "       [ 1.00226069,  0.84780263, -1.24514128, -0.16467229, -0.6533259 ]])"
      ]
     },
     "execution_count": 37,
     "metadata": {},
     "output_type": "execute_result"
    }
   ],
   "source": [
    "np.random.randn(2,5)"
   ]
  },
  {
   "cell_type": "markdown",
   "id": "eda4fcb4",
   "metadata": {},
   "source": [
    "##### np.random.randint()"
   ]
  },
  {
   "cell_type": "code",
   "execution_count": 38,
   "id": "48709f9e",
   "metadata": {},
   "outputs": [
    {
     "data": {
      "text/plain": [
       "39"
      ]
     },
     "execution_count": 38,
     "metadata": {},
     "output_type": "execute_result"
    }
   ],
   "source": [
    "np.random.randint(1,100)   # lower value is included and upper value is excluded."
   ]
  },
  {
   "cell_type": "code",
   "execution_count": 39,
   "id": "31858940",
   "metadata": {},
   "outputs": [
    {
     "data": {
      "text/plain": [
       "array([61, 13,  3, 60, 41, 23, 44, 18, 66, 15])"
      ]
     },
     "execution_count": 39,
     "metadata": {},
     "output_type": "execute_result"
    }
   ],
   "source": [
    "np.random.randint(1,100,10) # it will give array of 10 random number between 1 to 100"
   ]
  },
  {
   "cell_type": "code",
   "execution_count": 40,
   "id": "a597ff74",
   "metadata": {},
   "outputs": [
    {
     "data": {
      "text/plain": [
       "array([17, 82, 21, 40, 61, 75, 64, 61, 29, 72])"
      ]
     },
     "execution_count": 40,
     "metadata": {},
     "output_type": "execute_result"
    }
   ],
   "source": [
    "np.random.randint(1,100,10)"
   ]
  },
  {
   "cell_type": "code",
   "execution_count": 48,
   "id": "dc9260f7-9bb4-4bb6-bc5c-2d4f948bc533",
   "metadata": {},
   "outputs": [
    {
     "data": {
      "text/plain": [
       "array([[4, 1, 7],\n",
       "       [2, 8, 9],\n",
       "       [3, 4, 1]])"
      ]
     },
     "execution_count": 48,
     "metadata": {},
     "output_type": "execute_result"
    }
   ],
   "source": [
    "np.random.randint(1,10,size=(3,3),dtype=\"int\")"
   ]
  },
  {
   "cell_type": "markdown",
   "id": "aabf1b4e",
   "metadata": {},
   "source": [
    "### Reshape the array"
   ]
  },
  {
   "cell_type": "code",
   "execution_count": 41,
   "id": "28743e51",
   "metadata": {},
   "outputs": [
    {
     "data": {
      "text/plain": [
       "array([ 0,  1,  2,  3,  4,  5,  6,  7,  8,  9, 10, 11, 12, 13, 14, 15, 16,\n",
       "       17, 18, 19, 20, 21, 22, 23, 24])"
      ]
     },
     "execution_count": 41,
     "metadata": {},
     "output_type": "execute_result"
    }
   ],
   "source": [
    "arr = np.arange(25)\n",
    "arr "
   ]
  },
  {
   "cell_type": "code",
   "execution_count": 42,
   "id": "b350b142",
   "metadata": {},
   "outputs": [
    {
     "data": {
      "text/plain": [
       "array([31, 12, 83, 86, 16, 73, 59, 52, 97, 78])"
      ]
     },
     "execution_count": 42,
     "metadata": {},
     "output_type": "execute_result"
    }
   ],
   "source": [
    "ranarr = np.random.randint(1,100,10)\n",
    "ranarr"
   ]
  },
  {
   "cell_type": "code",
   "execution_count": 43,
   "id": "05667c5e",
   "metadata": {},
   "outputs": [
    {
     "data": {
      "text/plain": [
       "array([[ 0,  1,  2,  3,  4],\n",
       "       [ 5,  6,  7,  8,  9],\n",
       "       [10, 11, 12, 13, 14],\n",
       "       [15, 16, 17, 18, 19],\n",
       "       [20, 21, 22, 23, 24]])"
      ]
     },
     "execution_count": 43,
     "metadata": {},
     "output_type": "execute_result"
    }
   ],
   "source": [
    "arr.reshape(5,5)   # reshaping the array arr"
   ]
  },
  {
   "cell_type": "code",
   "execution_count": 44,
   "id": "1d0083ed",
   "metadata": {},
   "outputs": [
    {
     "data": {
      "text/plain": [
       "array([[31, 12],\n",
       "       [83, 86],\n",
       "       [16, 73],\n",
       "       [59, 52],\n",
       "       [97, 78]])"
      ]
     },
     "execution_count": 44,
     "metadata": {},
     "output_type": "execute_result"
    }
   ],
   "source": [
    "ranarr.reshape(5,2)    # reshaping the array ranarr"
   ]
  },
  {
   "cell_type": "code",
   "execution_count": 45,
   "id": "5f99ce0e",
   "metadata": {},
   "outputs": [
    {
     "ename": "ValueError",
     "evalue": "cannot reshape array of size 10 into shape (5,3)",
     "output_type": "error",
     "traceback": [
      "\u001b[0;31m---------------------------------------------------------------------------\u001b[0m",
      "\u001b[0;31mValueError\u001b[0m                                Traceback (most recent call last)",
      "\u001b[0;32m/tmp/ipykernel_106551/1507216577.py\u001b[0m in \u001b[0;36m<module>\u001b[0;34m\u001b[0m\n\u001b[0;32m----> 1\u001b[0;31m \u001b[0mranarr\u001b[0m\u001b[0;34m.\u001b[0m\u001b[0mreshape\u001b[0m\u001b[0;34m(\u001b[0m\u001b[0;36m5\u001b[0m\u001b[0;34m,\u001b[0m\u001b[0;36m3\u001b[0m\u001b[0;34m)\u001b[0m\u001b[0;34m\u001b[0m\u001b[0;34m\u001b[0m\u001b[0m\n\u001b[0m",
      "\u001b[0;31mValueError\u001b[0m: cannot reshape array of size 10 into shape (5,3)"
     ]
    }
   ],
   "source": [
    "ranarr.reshape(5,3)    "
   ]
  },
  {
   "cell_type": "code",
   "execution_count": null,
   "id": "2ba25e38",
   "metadata": {},
   "outputs": [],
   "source": [
    "ranarr.max()  # find maximum value in array."
   ]
  },
  {
   "cell_type": "code",
   "execution_count": null,
   "id": "8b6343ff",
   "metadata": {},
   "outputs": [],
   "source": [
    "ranarr.min()   # find minimum value in array."
   ]
  },
  {
   "cell_type": "code",
   "execution_count": null,
   "id": "20fb1e2d",
   "metadata": {},
   "outputs": [],
   "source": [
    "ranarr"
   ]
  },
  {
   "cell_type": "markdown",
   "id": "2270f05b",
   "metadata": {},
   "source": [
    "#### Find Index location of max and min value in array"
   ]
  },
  {
   "cell_type": "code",
   "execution_count": null,
   "id": "af25833e",
   "metadata": {},
   "outputs": [],
   "source": [
    "ranarr.argmax()"
   ]
  },
  {
   "cell_type": "code",
   "execution_count": null,
   "id": "be5773a6",
   "metadata": {},
   "outputs": [],
   "source": [
    "ranarr.argmin()"
   ]
  },
  {
   "cell_type": "markdown",
   "id": "1ba1e1c4",
   "metadata": {},
   "source": [
    "#### Find the shape of the array."
   ]
  },
  {
   "cell_type": "code",
   "execution_count": null,
   "id": "28441dba",
   "metadata": {},
   "outputs": [],
   "source": [
    "ranarr.shape   "
   ]
  },
  {
   "cell_type": "code",
   "execution_count": null,
   "id": "606b6b9a",
   "metadata": {},
   "outputs": [],
   "source": [
    "arr.shape"
   ]
  },
  {
   "cell_type": "code",
   "execution_count": null,
   "id": "7aa6a2ab",
   "metadata": {},
   "outputs": [],
   "source": [
    "a = arr.reshape(5,5)"
   ]
  },
  {
   "cell_type": "code",
   "execution_count": null,
   "id": "f2abb53c",
   "metadata": {},
   "outputs": [],
   "source": [
    "a"
   ]
  },
  {
   "cell_type": "code",
   "execution_count": null,
   "id": "b47b3d9d",
   "metadata": {},
   "outputs": [],
   "source": [
    "a.shape"
   ]
  },
  {
   "cell_type": "markdown",
   "id": "52c1ea96",
   "metadata": {},
   "source": [
    "#### Find the Data type of inside array"
   ]
  },
  {
   "cell_type": "code",
   "execution_count": null,
   "id": "c082c527",
   "metadata": {},
   "outputs": [],
   "source": [
    "arr.dtype"
   ]
  },
  {
   "cell_type": "markdown",
   "id": "dde015f9",
   "metadata": {},
   "source": [
    "#### #"
   ]
  },
  {
   "cell_type": "code",
   "execution_count": null,
   "id": "762820f4",
   "metadata": {},
   "outputs": [],
   "source": [
    "from numpy.random import randint"
   ]
  },
  {
   "cell_type": "code",
   "execution_count": null,
   "id": "7a6f6b86",
   "metadata": {},
   "outputs": [],
   "source": [
    "randint(2,10,3)"
   ]
  },
  {
   "cell_type": "markdown",
   "id": "4ed3081c-61a0-4b45-981d-b6399176154e",
   "metadata": {},
   "source": [
    "### flatten "
   ]
  },
  {
   "cell_type": "code",
   "execution_count": null,
   "id": "f5a08906-664c-4fd7-91c9-8278c83c7aff",
   "metadata": {},
   "outputs": [],
   "source": []
  },
  {
   "cell_type": "code",
   "execution_count": null,
   "id": "fc536816-6d6f-4a08-89eb-14a89a405d1a",
   "metadata": {},
   "outputs": [],
   "source": []
  }
 ],
 "metadata": {
  "kernelspec": {
   "display_name": "Python 3 (ipykernel)",
   "language": "python",
   "name": "python3"
  },
  "language_info": {
   "codemirror_mode": {
    "name": "ipython",
    "version": 3
   },
   "file_extension": ".py",
   "mimetype": "text/x-python",
   "name": "python",
   "nbconvert_exporter": "python",
   "pygments_lexer": "ipython3",
   "version": "3.9.7"
  }
 },
 "nbformat": 4,
 "nbformat_minor": 5
}
