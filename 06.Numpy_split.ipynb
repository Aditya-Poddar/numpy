{
 "cells": [
  {
   "cell_type": "markdown",
   "id": "c570d011",
   "metadata": {},
   "source": [
    "### Splitting NumPy Arrays\n",
    "Splitting is reverse operation of Joining.\n",
    "\n",
    "Joining merges multiple arrays into one and Splitting breaks one array into multiple.\n",
    "\n",
    "We use array_split() for splitting arrays, we pass it the array we want to split and the number of splits."
   ]
  },
  {
   "cell_type": "code",
   "execution_count": 1,
   "id": "edf914cb",
   "metadata": {},
   "outputs": [],
   "source": [
    "import numpy as np"
   ]
  },
  {
   "cell_type": "code",
   "execution_count": 2,
   "id": "04796a83",
   "metadata": {},
   "outputs": [],
   "source": [
    "arr = np.array([1,2,12,14,23,34,455,6,7,89])"
   ]
  },
  {
   "cell_type": "code",
   "execution_count": 3,
   "id": "43bfde70",
   "metadata": {},
   "outputs": [
    {
     "data": {
      "text/plain": [
       "array([  1,   2,  12,  14,  23,  34, 455,   6,   7,  89])"
      ]
     },
     "execution_count": 3,
     "metadata": {},
     "output_type": "execute_result"
    }
   ],
   "source": [
    "arr"
   ]
  },
  {
   "cell_type": "code",
   "execution_count": 7,
   "id": "c98ced5c",
   "metadata": {},
   "outputs": [
    {
     "data": {
      "text/plain": [
       "[array([ 1,  2, 12, 14]), array([ 23,  34, 455]), array([ 6,  7, 89])]"
      ]
     },
     "execution_count": 7,
     "metadata": {},
     "output_type": "execute_result"
    }
   ],
   "source": [
    "np.array_split(arr,5)  # array is splited into 5 part"
   ]
  },
  {
   "cell_type": "code",
   "execution_count": 8,
   "id": "33e1773e",
   "metadata": {},
   "outputs": [
    {
     "data": {
      "text/plain": [
       "[array([1, 2]),\n",
       " array([12, 14]),\n",
       " array([23, 34]),\n",
       " array([455]),\n",
       " array([6]),\n",
       " array([7]),\n",
       " array([89])]"
      ]
     },
     "execution_count": 8,
     "metadata": {},
     "output_type": "execute_result"
    }
   ],
   "source": [
    "np.array_split(arr ,7)"
   ]
  },
  {
   "cell_type": "code",
   "execution_count": 9,
   "id": "697f04fb",
   "metadata": {},
   "outputs": [
    {
     "data": {
      "text/plain": [
       "[array([ 1,  2, 12]), array([14, 23, 34]), array([455,   6]), array([ 7, 89])]"
      ]
     },
     "execution_count": 9,
     "metadata": {},
     "output_type": "execute_result"
    }
   ],
   "source": [
    "np.array_split(arr,4)"
   ]
  },
  {
   "cell_type": "code",
   "execution_count": null,
   "id": "eb5832a0",
   "metadata": {},
   "outputs": [],
   "source": []
  }
 ],
 "metadata": {
  "kernelspec": {
   "display_name": "Python 3 (ipykernel)",
   "language": "python",
   "name": "python3"
  },
  "language_info": {
   "codemirror_mode": {
    "name": "ipython",
    "version": 3
   },
   "file_extension": ".py",
   "mimetype": "text/x-python",
   "name": "python",
   "nbconvert_exporter": "python",
   "pygments_lexer": "ipython3",
   "version": "3.8.10"
  }
 },
 "nbformat": 4,
 "nbformat_minor": 5
}
